{
 "cells": [
  {
   "cell_type": "markdown",
   "metadata": {},
   "source": [
    "## C# Question No. 1"
   ]
  },
  {
   "cell_type": "markdown",
   "metadata": {},
   "source": [
    "\n",
    "1. 5 (Integer Data Type)\n",
    "2. 5.0 (Double Data Type)\n",
    "3. 5 > 1 (True/False; Boolean Data Type)\n",
    "4. '5' (Character Data Type)\n",
    "5. 5 * 2 (10; Integer Data Type)\n",
    "6. '5' * 2 ('55'; String Data Type)\n",
    "7. '5' + '2' ('52'; String Data Type)\n",
    "8. 5 / 2 (2; Integer Data Type)\n",
    "9. 5 % 2 (1; Integer Data Type)\n",
    "10. {5, 2, 1} (Array Data Type)\n",
    "11. 5 == 3 (False; Boolean Data Type)\n",
    "12. Pi (approximately 3.14; Double Data Type)"
   ]
  },
  {
   "cell_type": "markdown",
   "metadata": {},
   "source": [
    "## C# Question No. 2"
   ]
  },
  {
   "cell_type": "code",
   "execution_count": 15,
   "metadata": {
    "dotnet_interactive": {
     "language": "csharp"
    },
    "polyglot_notebook": {
     "kernelName": "csharp"
    },
    "vscode": {
     "languageId": "polyglot-notebook"
    }
   },
   "outputs": [
    {
     "name": "stdout",
     "output_type": "stream",
     "text": [
      "Number of letters in Supercalifragilisticexpialidocious: 34\n",
      "Yes! Substring is found at index 18\n",
      "The longest string is Supercalifragilisticexpialidocious\n",
      "The word that comes first in the dictionary: Bartok\n",
      "The word that comes last in the dictionary: Buxtehude\n"
     ]
    }
   ],
   "source": [
    "\n",
    "// 2a\n",
    "string given_string = \"Supercalifragilisticexpialidocious\";\n",
    "Console.WriteLine($\"Number of letters in {given_string}: {CountLetters(given_string)}\");\n",
    "\n",
    "// 2b\n",
    "string pattern = \"ice\";\n",
    "int index = FindSubstring(given_string, pattern);\n",
    "\n",
    "if (index != -1)\n",
    "    Console.WriteLine($\"Yes! Substring is found at index {index}\");\n",
    "else\n",
    "    Console.WriteLine(\"Substring not found\");\n",
    "\n",
    "// 2c\n",
    "string[] words = { \"Supercalifragilisticexpialidocious\", \" Honorificabilitudinitatibus\", \"Bababadalgharaghtakamminarronnkonn\" };\n",
    "string longestWord = FindLongestWord(words);\n",
    "Console.WriteLine($\"The longest string is {longestWord}\");\n",
    "\n",
    "// 2d\n",
    "string[] composerArray = { \"Berlioz\", \"Borodin\", \"Brian\", \"Bartok\", \"Bellini\", \"Buxtehude\", \"Bernstein\" };\n",
    "Array.Sort(composerArray);\n",
    "Console.WriteLine($\"The word that comes first in the dictionary: {composerArray[0]}\");\n",
    "Console.WriteLine($\"The word that comes last in the dictionary: {composerArray[composerArray.Length - 1]}\");\n",
    "\n",
    "int CountLetters(string input)\n",
    "{\n",
    "    return input.Length;\n",
    "}\n",
    "\n",
    "int FindSubstring(string input, string pattern)\n",
    "{\n",
    "    for (int i = 0; i <= input.Length - pattern.Length; i++)\n",
    "    {\n",
    "        int j;\n",
    "        for (j = 0; j < pattern.Length; j++)\n",
    "        {\n",
    "            if (input[i + j] != pattern[j])\n",
    "                break;\n",
    "        }\n",
    "\n",
    "        if (j == pattern.Length)\n",
    "            return i; // Match found\n",
    "    }\n",
    "\n",
    "    return -1; // No match found\n",
    "}\n",
    "\n",
    "string FindLongestWord(string[] words)\n",
    "{\n",
    "    string longestWord = \"\";\n",
    "    foreach (string word in words)\n",
    "    {\n",
    "        if (word.Length > longestWord.Length)\n",
    "            longestWord = word;\n",
    "    }\n",
    "    return longestWord;\n",
    "}\n"
   ]
  },
  {
   "cell_type": "markdown",
   "metadata": {},
   "source": [
    "## C# Question No. 3"
   ]
  },
  {
   "cell_type": "code",
   "execution_count": 29,
   "metadata": {
    "dotnet_interactive": {
     "language": "csharp"
    },
    "polyglot_notebook": {
     "kernelName": "csharp"
    },
    "vscode": {
     "languageId": "polyglot-notebook"
    }
   },
   "outputs": [
    {
     "name": "stdout",
     "output_type": "stream",
     "text": [
      "Enter the length of the first side of the triangle (a): \r\n"
     ]
    },
    {
     "ename": "Error",
     "evalue": "System.FormatException: The input string '' was not in a correct format.\r\n   at System.Number.ThrowOverflowOrFormatException(ParsingStatus status, ReadOnlySpan`1 value, TypeCode type)\r\n   at System.Double.Parse(String s)\r\n   at Submission#30.<<Initialize>>d__0.MoveNext()\r\n--- End of stack trace from previous location ---\r\n   at Microsoft.CodeAnalysis.Scripting.ScriptExecutionState.RunSubmissionsAsync[TResult](ImmutableArray`1 precedingExecutors, Func`2 currentExecutor, StrongBox`1 exceptionHolderOpt, Func`2 catchExceptionOpt, CancellationToken cancellationToken)",
     "output_type": "error",
     "traceback": [
      "System.FormatException: The input string '' was not in a correct format.\r\n",
      "   at System.Number.ThrowOverflowOrFormatException(ParsingStatus status, ReadOnlySpan`1 value, TypeCode type)\r\n",
      "   at System.Double.Parse(String s)\r\n",
      "   at Submission#30.<<Initialize>>d__0.MoveNext()\r\n",
      "--- End of stack trace from previous location ---\r\n",
      "   at Microsoft.CodeAnalysis.Scripting.ScriptExecutionState.RunSubmissionsAsync[TResult](ImmutableArray`1 precedingExecutors, Func`2 currentExecutor, StrongBox`1 exceptionHolderOpt, Func`2 catchExceptionOpt, CancellationToken cancellationToken)"
     ]
    }
   ],
   "source": [
    "\n",
    "double a;\n",
    "double b;\n",
    "double c;\n",
    "\n",
    "Console.WriteLine(\"Enter the length of the first side of the triangle (a): \");\n",
    "a = double.Parse(Console.ReadLine());\n",
    "\n",
    "Console.Write(\"Enter the length of the second side of the triangle (b): \");\n",
    "b = double.Parse(Console.ReadLine());\n",
    "\n",
    "Console.Write(\"Enter the length of the third side of the triangle (c): \");\n",
    "c = double.Parse(Console.ReadLine());\n",
    "\n",
    "double CalculateTriangleArea(double sideA, double sideB, double sideC)\n",
    "{\n",
    "    double s = (sideA + sideB + sideC) / 2;\n",
    "    return Math.Sqrt(s * (s - sideA) * (s - sideB) * (s - sideC));\n",
    "}\n",
    "\n",
    "double area = CalculateTriangleArea(a, b, c);\n",
    "Console.WriteLine($\"Area of the triangle: {area}\");\n"
   ]
  },
  {
   "cell_type": "markdown",
   "metadata": {},
   "source": [
    "#### The above code is running in Visual Studio but it is throwing an error in jupyter notebook."
   ]
  },
  {
   "cell_type": "markdown",
   "metadata": {},
   "source": [
    "## C# Question No. 4"
   ]
  },
  {
   "cell_type": "code",
   "execution_count": 30,
   "metadata": {
    "dotnet_interactive": {
     "language": "csharp"
    },
    "polyglot_notebook": {
     "kernelName": "csharp"
    },
    "vscode": {
     "languageId": "polyglot-notebook"
    }
   },
   "outputs": [],
   "source": [
    "using System;\n",
    "\n",
    "class Program\n",
    "{\n",
    "    static void Main(string[] args)\n",
    "    {\n",
    "        Console.Write(\"Number of elements to be stored in the Array: \");\n",
    "        int number_of_elements = int.Parse(Console.ReadLine());\n",
    "\n",
    "        int[] array_of_numbers = ReadArrayInput(number_of_elements);\n",
    "\n",
    "        int[] array_of_even_numbers;\n",
    "        int[] array_of_odd_numbers;\n",
    "        SplitEvenOddArrays(array_of_numbers, out array_of_even_numbers, out array_of_odd_numbers);\n",
    "\n",
    "        Console.WriteLine(\"The Even elements are: \");\n",
    "        PrintArray(array_of_even_numbers);\n",
    "\n",
    "        Console.WriteLine(\"\\nThe Odd elements are: \");\n",
    "        PrintArray(array_of_odd_numbers);\n",
    "    }\n",
    "\n",
    "    static int[] ReadArrayInput(int size)\n",
    "    {\n",
    "        int[] array = new int[size];\n",
    "        Console.WriteLine($\"Input {size} elements in the Array: \");\n",
    "\n",
    "        for (int i = 0; i < size; i++)\n",
    "        {\n",
    "            Console.Write($\"element - {i}: \");\n",
    "            array[i] = int.Parse(Console.ReadLine());\n",
    "        }\n",
    "\n",
    "        return array;\n",
    "    }\n",
    "\n",
    "    static void SplitEvenOddArrays(int[] inputArray, out int[] evenArray, out int[] oddArray)\n",
    "    {\n",
    "        int count_of_even_numbers = 0;\n",
    "        int count_of_odd_numbers = 0;\n",
    "\n",
    "        foreach (int num in inputArray)\n",
    "        {\n",
    "            if (num % 2 == 0)\n",
    "            {\n",
    "                count_of_even_numbers++;\n",
    "            }\n",
    "            else\n",
    "            {\n",
    "                count_of_odd_numbers++;\n",
    "            }\n",
    "        }\n",
    "\n",
    "        if (count_of_even_numbers > 0)\n",
    "        {\n",
    "            evenArray = new int[count_of_even_numbers];\n",
    "        }\n",
    "        else\n",
    "        {\n",
    "            evenArray = new int[0]; // Empty array for no even numbers.\n",
    "        }\n",
    "\n",
    "        if (count_of_odd_numbers > 0)\n",
    "        {\n",
    "            oddArray = new int[count_of_odd_numbers];\n",
    "        }\n",
    "        else\n",
    "        {\n",
    "            oddArray = new int[0]; // Empty array for no odd numbers.\n",
    "        }\n",
    "\n",
    "        int evenIndex = 0;\n",
    "        int oddIndex = 0;\n",
    "\n",
    "        foreach (int num in inputArray)\n",
    "        {\n",
    "            if (num % 2 == 0)\n",
    "            {\n",
    "                evenArray[evenIndex] = num;\n",
    "                evenIndex++;\n",
    "            }\n",
    "            else\n",
    "            {\n",
    "                oddArray[oddIndex] = num;\n",
    "                oddIndex++;\n",
    "            }\n",
    "        }\n",
    "    }\n",
    "\n",
    "    static void PrintArray(int[] array)\n",
    "    {\n",
    "        foreach (int num in array)\n",
    "        {\n",
    "            Console.Write(num + \" \");\n",
    "        }\n",
    "        Console.WriteLine();\n",
    "    }\n",
    "}\n"
   ]
  },
  {
   "cell_type": "markdown",
   "metadata": {},
   "source": [
    "#### The above code is running in Visual Studio but it is throwing an error in jupyter notebook."
   ]
  },
  {
   "cell_type": "markdown",
   "metadata": {},
   "source": [
    "## C# Question No. 5"
   ]
  },
  {
   "cell_type": "code",
   "execution_count": 5,
   "metadata": {
    "dotnet_interactive": {
     "language": "csharp"
    },
    "polyglot_notebook": {
     "kernelName": "csharp"
    },
    "vscode": {
     "languageId": "polyglot-notebook"
    }
   },
   "outputs": [],
   "source": [
    "using System;\n",
    "\n",
    "class Program\n",
    "{\n",
    "    public static bool IsPointInsideRectangle(double x, double y, double x1, double y1, double x2, double y2)\n",
    "    {\n",
    "        // Calculate the differences between the point and the corners of the rectangle\n",
    "        double dx1 = x - x1;\n",
    "        double dy1 = y - y1;\n",
    "        double dx2 = x2 - x;\n",
    "        double dy2 = y2 - y;\n",
    "\n",
    "        // Check if the point is inside the rectangle\n",
    "        bool isInside = (dx1 > 0 && dy1 > 0) && (dx2 > 0 && dy2 > 0);\n",
    "        \n",
    "        return isInside;\n",
    "    }\n",
    "\n",
    "    public static void main(string[] args)\n",
    "    {\n",
    "        // Test cases\n",
    "        bool output1 = IsPointInsideRectangle(1, 1, 0.3, 0.5, 1.1, 0.7);\n",
    "        bool output2 = IsPointInsideRectangle(1, 1, 0.5, 0.2, 1.1, 2);\n",
    "\n",
    "        if (output1 && output2)\n",
    "        {\n",
    "            Console.WriteLine(\"(1,1) lies in both of the given rectangles.\");\n",
    "        }\n",
    "        else\n",
    "        {\n",
    "            Console.WriteLine(\"(1,1) doesn't lie in both of the given rectangles.\");\n",
    "        }\n",
    "    }\n",
    "}\n"
   ]
  },
  {
   "cell_type": "markdown",
   "metadata": {},
   "source": [
    "#### The above code is running in Visual Studio but it is throwing an error in jupyter notebook."
   ]
  }
 ],
 "metadata": {
  "kernelspec": {
   "display_name": "base",
   "language": "python",
   "name": "python3"
  },
  "language_info": {
   "codemirror_mode": {
    "name": "ipython",
    "version": 3
   },
   "file_extension": ".py",
   "mimetype": "text/x-python",
   "name": "python",
   "nbconvert_exporter": "python",
   "pygments_lexer": "ipython3",
   "version": "3.11.4"
  }
 },
 "nbformat": 4,
 "nbformat_minor": 2
}
