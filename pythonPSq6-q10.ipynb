{
 "cells": [
  {
   "cell_type": "markdown",
   "metadata": {},
   "source": [
    "## Question No. 6 Python"
   ]
  },
  {
   "cell_type": "code",
   "execution_count": 1,
   "metadata": {},
   "outputs": [
    {
     "name": "stdout",
     "output_type": "stream",
     "text": [
      "elloworldhay\n"
     ]
    }
   ],
   "source": [
    "def is_vowel(char):\n",
    "    vowels = ['a', 'e', 'i', 'o', 'u']\n",
    "    return char in vowels\n",
    "\n",
    "def pig_latin(word):\n",
    "    word = word.lower()\n",
    "    if is_vowel(word[0]):\n",
    "        return word + 'way'\n",
    "    else:\n",
    "        for i in range(len(word)):\n",
    "            if is_vowel(word[i]):\n",
    "                return word[i:] + word[:i] + 'ay'\n",
    "\n",
    "input_word = input(\"Enter a word: \")\n",
    "print(pig_latin(input_word))\n"
   ]
  },
  {
   "cell_type": "markdown",
   "metadata": {},
   "source": [
    "## Question No. 7 Python"
   ]
  },
  {
   "cell_type": "code",
   "execution_count": 2,
   "metadata": {},
   "outputs": [
    {
     "name": "stdout",
     "output_type": "stream",
     "text": [
      "There are 15 patients of blood type A\n",
      "There are 1 patients of blood type B\n",
      "There are 13 patients of blood type AB\n",
      "There are 15 patients of blood type O\n",
      "There are 0 patients of blood type OO\n"
     ]
    }
   ],
   "source": [
    "def bldcount(name):\n",
    "    # Initialize a dictionary to store the count of each blood type\n",
    "    blood_type_count = {\n",
    "        'A': 0, \n",
    "        'B': 0,\n",
    "        'AB': 0,\n",
    "        'O': 0, \n",
    "        'OO': 0\n",
    "    }\n",
    "    \n",
    "    try:\n",
    "        # Open the file for reading\n",
    "        with open(name, 'r') as file:\n",
    "            # Read each line in the file\n",
    "            for line in file:\n",
    "                # Removing leading and trailing whitespaces, converting to uppercase and splitting\n",
    "                blood_type_list = line.strip().upper().split()\n",
    "                \n",
    "                for blood_type in blood_type_list:\n",
    "                    # Check if the blood type is valid\n",
    "                    if blood_type in blood_type_count:\n",
    "                        # Increment the count for the corresponding blood type\n",
    "                        blood_type_count[blood_type] += 1\n",
    "                    else:\n",
    "                        print(f\"Invalid blood type: {blood_type}\")\n",
    "                        \n",
    "        # Print the count for each blood type\n",
    "        for blood_type, count in blood_type_count.items():\n",
    "            print(f\"There are {count} patients of blood type {blood_type}\")\n",
    "            \n",
    "    except FileNotFoundError:\n",
    "        print(f\"File '{name}' not found.\")\n",
    "    except Exception as e:\n",
    "        print(f\"An error occurred: {str(e)}\")\n",
    "\n",
    "# Calling the function with the file name 'bloodtype1.txt'\n",
    "bldcount('bloodtype1.txt')\n"
   ]
  },
  {
   "cell_type": "markdown",
   "metadata": {},
   "source": [
    "## Question No 8 Python"
   ]
  },
  {
   "cell_type": "code",
   "execution_count": 3,
   "metadata": {},
   "outputs": [
    {
     "name": "stdout",
     "output_type": "stream",
     "text": [
      "Converted amount: 122.97\n"
     ]
    }
   ],
   "source": [
    "def load_currency_rates(file_path):\n",
    "    \"\"\"\n",
    "    Load currency rates from a file and return them as a dictionary.\n",
    "    \"\"\"\n",
    "    currency_rates = {}\n",
    "    try:\n",
    "        with open(file_path, 'r') as file:\n",
    "            for line in file:\n",
    "                currency_code = line.split()[0]\n",
    "                rate = float(line.split()[1])\n",
    "                currency_rates[currency_code] = float(rate)\n",
    "    except FileNotFoundError:\n",
    "        print(f\"Error: File '{file_path}' not found.\")\n",
    "    return currency_rates\n",
    "\n",
    "def convert_currency(currency, amount, currency_rates):\n",
    "    \"\"\"\n",
    "    Convert an amount from one currency to another using the given rates.\n",
    "    \"\"\"\n",
    "    if currency in currency_rates:\n",
    "        conversion_rate = currency_rates[currency]\n",
    "        converted_amount = amount * conversion_rate\n",
    "        return converted_amount\n",
    "    else:\n",
    "        return \"Currency not found in the exchange rates.\"\n",
    "\n",
    "def main():\n",
    "    file_path = 'currencies.txt'\n",
    "    currency_rates = load_currency_rates(file_path)\n",
    "\n",
    "    if not currency_rates:\n",
    "        return  # Exit if the file couldn't be loaded\n",
    "\n",
    "    input_currency = input(\"Enter the currency in which you want to convert: \").strip().upper()\n",
    "    amount = float(input(\"Enter amount: \"))\n",
    "\n",
    "    converted_amount = convert_currency(input_currency, amount, currency_rates)\n",
    "    if isinstance(converted_amount, float):\n",
    "        print(f\"Converted amount: {converted_amount:.2f}\")\n",
    "    else:\n",
    "        print(converted_amount)\n",
    "\n",
    "if __name__ == \"__main__\":\n",
    "    main()\n"
   ]
  },
  {
   "cell_type": "markdown",
   "metadata": {},
   "source": [
    "## Question No 9 Python"
   ]
  },
  {
   "cell_type": "markdown",
   "metadata": {},
   "source": [
    "\n",
    "1. Attempting to combine incompatible data types, like adding an integer and a string together (e.g., 6 + 'a'), will lead to a `TypeError`. Python cannot perform such operations because it requires compatible data types for arithmetic operations.\n",
    "\n",
    "2. Accessing an element at an index that is out of the valid range in a list (e.g., trying to access the 12th item in a list with only 10 items) will result in an `IndexError`. Lists in Python are zero-indexed, meaning the valid indices range from 0 to one less than the length of the list.\n",
    "\n",
    "3. Trying to use a value that is not within the expected range for a function, such as attempting to calculate the square root of a negative number using `math.sqrt(-1.0)`, will raise a `ValueError`. In this case, the `math.sqrt` function expects a non-negative number as its input, and providing a negative number is not mathematically defined.\n",
    "\n",
    "4. Using a variable that has not been declared or assigned a value, like attempting to print the value of `x` when it hasn't been defined, will lead to a `NameError`. Python requires variables to be declared or initialized before they can be used.\n",
    "\n",
    "5. Trying to open a file that doesn't exist, due to a typographical error in the filename or looking in the wrong directory, will result in a `FileNotFoundError`. Python expects the specified file to exist at the specified location when attempting to open it."
   ]
  },
  {
   "cell_type": "markdown",
   "metadata": {},
   "source": [
    "## Question No 10 Python"
   ]
  },
  {
   "cell_type": "code",
   "execution_count": 4,
   "metadata": {},
   "outputs": [
    {
     "name": "stdout",
     "output_type": "stream",
     "text": [
      "{'a': 3, 'b': 0, 'c': 0, 'd': 0, 'e': 0, 'f': 0, 'g': 1, 'h': 0, 'i': 1, 'j': 0, 'k': 0, 'l': 0, 'm': 2, 'n': 0, 'o': 0, 'p': 0, 'q': 0, 'r': 1, 's': 0, 't': 1, 'u': 0, 'v': 0, 'w': 0, 'x': 0, 'y': 0, 'z': 0}\n"
     ]
    }
   ],
   "source": [
    "def calculate_letter_frequencies(input_string):\n",
    "    # Define a dictionary to store character frequencies (initially all zeros)\n",
    "    letter_frequencies = {char: 0 for char in 'abcdefghijklmnopqrstuvwxyz'}\n",
    "    \n",
    "    # Convert the input string to lowercase to handle case-insensitive counting\n",
    "    input_string = input_string.lower()\n",
    "    \n",
    "    # Iterate over each character in the input string\n",
    "    for char in input_string:\n",
    "        # Check if the character is a lowercase letter\n",
    "        if char.isalpha():\n",
    "            # Increment the corresponding frequency count\n",
    "            letter_frequencies[char] += 1\n",
    "    \n",
    "    return letter_frequencies\n",
    "\n",
    "input_string = input(\"Enter a string: \")\n",
    "output = calculate_letter_frequencies(input_string)\n",
    "print(output)\n"
   ]
  },
  {
   "cell_type": "code",
   "execution_count": null,
   "metadata": {},
   "outputs": [],
   "source": []
  }
 ],
 "metadata": {
  "kernelspec": {
   "display_name": "base",
   "language": "python",
   "name": "python3"
  },
  "language_info": {
   "codemirror_mode": {
    "name": "ipython",
    "version": 3
   },
   "file_extension": ".py",
   "mimetype": "text/x-python",
   "name": "python",
   "nbconvert_exporter": "python",
   "pygments_lexer": "ipython3",
   "version": "3.11.4"
  }
 },
 "nbformat": 4,
 "nbformat_minor": 2
}
